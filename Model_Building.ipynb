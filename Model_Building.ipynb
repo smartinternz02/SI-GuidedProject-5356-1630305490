{
 "cells": [
  {
   "cell_type": "code",
   "execution_count": 1,
   "metadata": {},
   "outputs": [],
   "source": [
    "from tensorflow.keras.models import Sequential\n",
    "from tensorflow.keras.layers import Dense, Convolution2D, MaxPooling2D, Flatten\n",
    "from tensorflow.keras.preprocessing.image import ImageDataGenerator"
   ]
  },
  {
   "cell_type": "code",
   "execution_count": 2,
   "metadata": {},
   "outputs": [],
   "source": [
    "train_datagen = ImageDataGenerator(rescale= 1./255, shear_range = 0.2, zoom_range = 0.2, horizontal_flip = True)\n",
    "test_datagen = ImageDataGenerator(rescale= 1./255)"
   ]
  },
  {
   "cell_type": "code",
   "execution_count": 3,
   "metadata": {},
   "outputs": [
    {
     "name": "stdout",
     "output_type": "stream",
     "text": [
      "Found 993 images belonging to 3 classes.\n",
      "Found 353 images belonging to 3 classes.\n"
     ]
    }
   ],
   "source": [
    "x_train = train_datagen.flow_from_directory(r\"dataset\\train_set\", target_size = (64,64), batch_size= 32, class_mode = \"categorical\")\n",
    "x_test = test_datagen.flow_from_directory(r\"dataset\\test_set\", target_size = (64,64), batch_size= 32, class_mode = \"categorical\")"
   ]
  },
  {
   "cell_type": "code",
   "execution_count": 4,
   "metadata": {},
   "outputs": [],
   "source": [
    "cnn = Sequential()"
   ]
  },
  {
   "cell_type": "code",
   "execution_count": 5,
   "metadata": {},
   "outputs": [
    {
     "name": "stdout",
     "output_type": "stream",
     "text": [
      "WARNING:tensorflow:From C:\\Users\\sahar\\Anaconda3\\lib\\site-packages\\tensorflow\\python\\ops\\init_ops.py:1251: calling VarianceScaling.__init__ (from tensorflow.python.ops.init_ops) with dtype is deprecated and will be removed in a future version.\n",
      "Instructions for updating:\n",
      "Call initializer instance with the dtype argument instead of passing it to the constructor\n"
     ]
    }
   ],
   "source": [
    "cnn.add(Convolution2D(32, (3,3), input_shape=(64,64, 3)))\n",
    "cnn.add(MaxPooling2D((2,2)))"
   ]
  },
  {
   "cell_type": "code",
   "execution_count": 6,
   "metadata": {},
   "outputs": [],
   "source": [
    "cnn.add(Flatten())"
   ]
  },
  {
   "cell_type": "code",
   "execution_count": 7,
   "metadata": {},
   "outputs": [
    {
     "name": "stdout",
     "output_type": "stream",
     "text": [
      "WARNING:tensorflow:From C:\\Users\\sahar\\Anaconda3\\lib\\site-packages\\tensorflow\\python\\keras\\initializers.py:119: calling RandomUniform.__init__ (from tensorflow.python.ops.init_ops) with dtype is deprecated and will be removed in a future version.\n",
      "Instructions for updating:\n",
      "Call initializer instance with the dtype argument instead of passing it to the constructor\n"
     ]
    }
   ],
   "source": [
    "cnn.add(Dense(units = 128 , kernel_initializer = \"random_uniform\", activation = \"relu\"))\n",
    "cnn.add(Dense(units = 128 , kernel_initializer = \"random_uniform\", activation = \"relu\"))"
   ]
  },
  {
   "cell_type": "code",
   "execution_count": 8,
   "metadata": {},
   "outputs": [],
   "source": [
    "cnn.add(Dense(units = 3 , kernel_initializer = \"random_uniform\", activation = \"softmax\"))"
   ]
  },
  {
   "cell_type": "code",
   "execution_count": 9,
   "metadata": {},
   "outputs": [],
   "source": [
    "cnn.compile(optimizer = \"rmsprop\", loss = \"categorical_crossentropy\", metrics = [\"accuracy\"])"
   ]
  },
  {
   "cell_type": "code",
   "execution_count": 10,
   "metadata": {},
   "outputs": [
    {
     "name": "stdout",
     "output_type": "stream",
     "text": [
      "Epoch 1/110\n",
      "32/31 [==============================] - 6s 176ms/step - loss: 1.1013 - acc: 0.4048 - val_loss: 1.0216 - val_acc: 0.5666\n",
      "Epoch 2/110\n",
      "32/31 [==============================] - 5s 159ms/step - loss: 1.0069 - acc: 0.5257 - val_loss: 0.9205 - val_acc: 0.5977\n",
      "Epoch 3/110\n",
      "32/31 [==============================] - 5s 165ms/step - loss: 0.8894 - acc: 0.5901 - val_loss: 1.0082 - val_acc: 0.5751\n",
      "Epoch 4/110\n",
      "32/31 [==============================] - 5s 152ms/step - loss: 0.8498 - acc: 0.6002 - val_loss: 1.0517 - val_acc: 0.6176\n",
      "Epoch 5/110\n",
      "32/31 [==============================] - 5s 157ms/step - loss: 0.7730 - acc: 0.6697 - val_loss: 0.9427 - val_acc: 0.6374\n",
      "Epoch 6/110\n",
      "32/31 [==============================] - 5s 153ms/step - loss: 0.7199 - acc: 0.6828 - val_loss: 0.9077 - val_acc: 0.6544\n",
      "Epoch 7/110\n",
      "32/31 [==============================] - 5s 159ms/step - loss: 0.6743 - acc: 0.6949 - val_loss: 1.0932 - val_acc: 0.6062\n",
      "Epoch 8/110\n",
      "32/31 [==============================] - 5s 153ms/step - loss: 0.5908 - acc: 0.7200 - val_loss: 0.9815 - val_acc: 0.6544\n",
      "Epoch 9/110\n",
      "32/31 [==============================] - 5s 159ms/step - loss: 0.6127 - acc: 0.7452 - val_loss: 0.7814 - val_acc: 0.6742\n",
      "Epoch 10/110\n",
      "32/31 [==============================] - 5s 153ms/step - loss: 0.6025 - acc: 0.7543 - val_loss: 0.9131 - val_acc: 0.6771\n",
      "Epoch 11/110\n",
      "32/31 [==============================] - 5s 162ms/step - loss: 0.5016 - acc: 0.7805 - val_loss: 1.7995 - val_acc: 0.5892\n",
      "Epoch 12/110\n",
      "32/31 [==============================] - 5s 158ms/step - loss: 0.4831 - acc: 0.7905 - val_loss: 1.1839 - val_acc: 0.6827\n",
      "Epoch 13/110\n",
      "32/31 [==============================] - 5s 169ms/step - loss: 0.4851 - acc: 0.7895 - val_loss: 0.8839 - val_acc: 0.6884\n",
      "Epoch 14/110\n",
      "32/31 [==============================] - 5s 151ms/step - loss: 0.5562 - acc: 0.7976 - val_loss: 1.2261 - val_acc: 0.6742\n",
      "Epoch 15/110\n",
      "32/31 [==============================] - 5s 154ms/step - loss: 0.4236 - acc: 0.8157 - val_loss: 0.8649 - val_acc: 0.7025\n",
      "Epoch 16/110\n",
      "32/31 [==============================] - 5s 152ms/step - loss: 0.4113 - acc: 0.8338 - val_loss: 1.0785 - val_acc: 0.7025\n",
      "Epoch 17/110\n",
      "32/31 [==============================] - 5s 150ms/step - loss: 0.3527 - acc: 0.8379 - val_loss: 1.2863 - val_acc: 0.6714\n",
      "Epoch 18/110\n",
      "32/31 [==============================] - 5s 156ms/step - loss: 0.3628 - acc: 0.8560 - val_loss: 1.3172 - val_acc: 0.6799\n",
      "Epoch 19/110\n",
      "32/31 [==============================] - 5s 152ms/step - loss: 0.3230 - acc: 0.8701 - val_loss: 1.3233 - val_acc: 0.6771\n",
      "Epoch 20/110\n",
      "32/31 [==============================] - 5s 167ms/step - loss: 0.2908 - acc: 0.8882 - val_loss: 1.2192 - val_acc: 0.6856\n",
      "Epoch 21/110\n",
      "32/31 [==============================] - 5s 151ms/step - loss: 0.2602 - acc: 0.8943 - val_loss: 0.9239 - val_acc: 0.7167\n",
      "Epoch 22/110\n",
      "32/31 [==============================] - 5s 156ms/step - loss: 0.2544 - acc: 0.8842 - val_loss: 1.0141 - val_acc: 0.7167\n",
      "Epoch 23/110\n",
      "32/31 [==============================] - 5s 155ms/step - loss: 0.2852 - acc: 0.8852 - val_loss: 1.0389 - val_acc: 0.7025\n",
      "Epoch 24/110\n",
      "32/31 [==============================] - 5s 163ms/step - loss: 0.2295 - acc: 0.9164 - val_loss: 1.4723 - val_acc: 0.6912\n",
      "Epoch 25/110\n",
      "32/31 [==============================] - 5s 149ms/step - loss: 0.2024 - acc: 0.9275 - val_loss: 1.6430 - val_acc: 0.7167\n",
      "Epoch 26/110\n",
      "32/31 [==============================] - 5s 162ms/step - loss: 0.2151 - acc: 0.9194 - val_loss: 1.2656 - val_acc: 0.7337\n",
      "Epoch 27/110\n",
      "32/31 [==============================] - 5s 154ms/step - loss: 0.2417 - acc: 0.9225 - val_loss: 1.4454 - val_acc: 0.7054\n",
      "Epoch 28/110\n",
      "32/31 [==============================] - 5s 152ms/step - loss: 0.1657 - acc: 0.9476 - val_loss: 1.9943 - val_acc: 0.6941\n",
      "Epoch 29/110\n",
      "32/31 [==============================] - 5s 152ms/step - loss: 0.1789 - acc: 0.9285 - val_loss: 1.8094 - val_acc: 0.7507\n",
      "Epoch 30/110\n",
      "32/31 [==============================] - 5s 153ms/step - loss: 0.2139 - acc: 0.9255 - val_loss: 1.9410 - val_acc: 0.7110\n",
      "Epoch 31/110\n",
      "32/31 [==============================] - 5s 166ms/step - loss: 0.2295 - acc: 0.9225 - val_loss: 2.1602 - val_acc: 0.6856\n",
      "Epoch 32/110\n",
      "32/31 [==============================] - 5s 153ms/step - loss: 0.1468 - acc: 0.9436 - val_loss: 1.4171 - val_acc: 0.7365\n",
      "Epoch 33/110\n",
      "32/31 [==============================] - 5s 164ms/step - loss: 0.1652 - acc: 0.9426 - val_loss: 1.9196 - val_acc: 0.7224\n",
      "Epoch 34/110\n",
      "32/31 [==============================] - 5s 157ms/step - loss: 0.1605 - acc: 0.9396 - val_loss: 1.5125 - val_acc: 0.7365\n",
      "Epoch 35/110\n",
      "32/31 [==============================] - 6s 188ms/step - loss: 0.1237 - acc: 0.9577 - val_loss: 1.9286 - val_acc: 0.7224\n",
      "Epoch 36/110\n",
      "32/31 [==============================] - 5s 162ms/step - loss: 0.1807 - acc: 0.9406 - val_loss: 1.7955 - val_acc: 0.6912\n",
      "Epoch 37/110\n",
      "32/31 [==============================] - 5s 164ms/step - loss: 0.1785 - acc: 0.9547 - val_loss: 1.6696 - val_acc: 0.7195\n",
      "Epoch 38/110\n",
      "32/31 [==============================] - 5s 158ms/step - loss: 0.0907 - acc: 0.9708 - val_loss: 1.3361 - val_acc: 0.7479\n",
      "Epoch 39/110\n",
      "32/31 [==============================] - 5s 157ms/step - loss: 0.1557 - acc: 0.9517 - val_loss: 1.7473 - val_acc: 0.7365\n",
      "Epoch 40/110\n",
      "32/31 [==============================] - 5s 154ms/step - loss: 0.1708 - acc: 0.9466 - val_loss: 1.8197 - val_acc: 0.6799\n",
      "Epoch 41/110\n",
      "32/31 [==============================] - 5s 167ms/step - loss: 0.1224 - acc: 0.9567 - val_loss: 2.0673 - val_acc: 0.7110\n",
      "Epoch 42/110\n",
      "32/31 [==============================] - 5s 149ms/step - loss: 0.2026 - acc: 0.9537 - val_loss: 2.2260 - val_acc: 0.7082\n",
      "Epoch 43/110\n",
      "32/31 [==============================] - 5s 168ms/step - loss: 0.0960 - acc: 0.9728 - val_loss: 1.7994 - val_acc: 0.7337\n",
      "Epoch 44/110\n",
      "32/31 [==============================] - 5s 154ms/step - loss: 0.1341 - acc: 0.9547 - val_loss: 1.7493 - val_acc: 0.7139\n",
      "Epoch 45/110\n",
      "32/31 [==============================] - 5s 162ms/step - loss: 0.0988 - acc: 0.9678 - val_loss: 2.0091 - val_acc: 0.6997\n",
      "Epoch 46/110\n",
      "32/31 [==============================] - 5s 153ms/step - loss: 0.1229 - acc: 0.9617 - val_loss: 2.9290 - val_acc: 0.7025\n",
      "Epoch 47/110\n",
      "32/31 [==============================] - 5s 170ms/step - loss: 0.1295 - acc: 0.9587 - val_loss: 2.8114 - val_acc: 0.7280\n",
      "Epoch 48/110\n",
      "32/31 [==============================] - 5s 150ms/step - loss: 0.0834 - acc: 0.9718 - val_loss: 4.1769 - val_acc: 0.6317\n",
      "Epoch 49/110\n",
      "32/31 [==============================] - 5s 162ms/step - loss: 0.1317 - acc: 0.9627 - val_loss: 2.1021 - val_acc: 0.7252\n",
      "Epoch 50/110\n",
      "32/31 [==============================] - 5s 154ms/step - loss: 0.1071 - acc: 0.9668 - val_loss: 2.3385 - val_acc: 0.7195\n",
      "Epoch 51/110\n",
      "32/31 [==============================] - 5s 159ms/step - loss: 0.0924 - acc: 0.9648 - val_loss: 2.2650 - val_acc: 0.7025\n",
      "Epoch 52/110\n",
      "32/31 [==============================] - 6s 174ms/step - loss: 0.0992 - acc: 0.9688 - val_loss: 2.5691 - val_acc: 0.7139\n",
      "Epoch 53/110\n",
      "32/31 [==============================] - 5s 160ms/step - loss: 0.0599 - acc: 0.9809 - val_loss: 2.5162 - val_acc: 0.6912\n",
      "Epoch 54/110\n",
      "32/31 [==============================] - 5s 154ms/step - loss: 0.1005 - acc: 0.9668 - val_loss: 2.0735 - val_acc: 0.7309\n",
      "Epoch 55/110\n",
      "32/31 [==============================] - 5s 166ms/step - loss: 0.1615 - acc: 0.9668 - val_loss: 2.7446 - val_acc: 0.7309\n",
      "Epoch 56/110\n",
      "32/31 [==============================] - 5s 158ms/step - loss: 0.0970 - acc: 0.9718 - val_loss: 2.9989 - val_acc: 0.7195\n",
      "Epoch 57/110\n",
      "32/31 [==============================] - 5s 165ms/step - loss: 0.0666 - acc: 0.9778 - val_loss: 2.6303 - val_acc: 0.7365\n",
      "Epoch 58/110\n",
      "32/31 [==============================] - 5s 155ms/step - loss: 0.1010 - acc: 0.9698 - val_loss: 2.0855 - val_acc: 0.7450\n",
      "Epoch 59/110\n",
      "32/31 [==============================] - 5s 167ms/step - loss: 0.0527 - acc: 0.9829 - val_loss: 2.3753 - val_acc: 0.7677\n",
      "Epoch 60/110\n",
      "32/31 [==============================] - 5s 156ms/step - loss: 0.0780 - acc: 0.9758 - val_loss: 2.5965 - val_acc: 0.6969\n",
      "Epoch 61/110\n",
      "32/31 [==============================] - 5s 165ms/step - loss: 0.0442 - acc: 0.9869 - val_loss: 2.4899 - val_acc: 0.7054\n",
      "Epoch 62/110\n"
     ]
    },
    {
     "name": "stdout",
     "output_type": "stream",
     "text": [
      "32/31 [==============================] - 5s 148ms/step - loss: 0.1066 - acc: 0.9648 - val_loss: 1.9425 - val_acc: 0.7280\n",
      "Epoch 63/110\n",
      "32/31 [==============================] - 5s 155ms/step - loss: 0.0554 - acc: 0.9799 - val_loss: 2.5457 - val_acc: 0.7280\n",
      "Epoch 64/110\n",
      "32/31 [==============================] - 5s 154ms/step - loss: 0.0869 - acc: 0.9718 - val_loss: 2.6864 - val_acc: 0.6941\n",
      "Epoch 65/110\n",
      "32/31 [==============================] - 5s 152ms/step - loss: 0.0694 - acc: 0.9758 - val_loss: 2.0510 - val_acc: 0.7422\n",
      "Epoch 66/110\n",
      "32/31 [==============================] - 5s 157ms/step - loss: 0.0795 - acc: 0.9718 - val_loss: 2.6706 - val_acc: 0.7167\n",
      "Epoch 67/110\n",
      "32/31 [==============================] - 5s 153ms/step - loss: 0.0873 - acc: 0.9809 - val_loss: 3.3599 - val_acc: 0.7025\n",
      "Epoch 68/110\n",
      "32/31 [==============================] - 5s 152ms/step - loss: 0.0634 - acc: 0.9789 - val_loss: 2.2488 - val_acc: 0.7224\n",
      "Epoch 69/110\n",
      "32/31 [==============================] - 5s 154ms/step - loss: 0.1125 - acc: 0.9728 - val_loss: 2.1040 - val_acc: 0.7224\n",
      "Epoch 70/110\n",
      "32/31 [==============================] - 5s 155ms/step - loss: 0.0677 - acc: 0.9829 - val_loss: 2.5449 - val_acc: 0.7025\n",
      "Epoch 71/110\n",
      "32/31 [==============================] - 5s 148ms/step - loss: 0.0416 - acc: 0.9869 - val_loss: 2.5374 - val_acc: 0.7082\n",
      "Epoch 72/110\n",
      "32/31 [==============================] - 5s 161ms/step - loss: 0.0735 - acc: 0.9748 - val_loss: 2.8983 - val_acc: 0.6856\n",
      "Epoch 73/110\n",
      "32/31 [==============================] - 5s 147ms/step - loss: 0.0629 - acc: 0.9708 - val_loss: 2.8077 - val_acc: 0.6912\n",
      "Epoch 74/110\n",
      "32/31 [==============================] - 5s 159ms/step - loss: 0.0685 - acc: 0.9768 - val_loss: 3.5209 - val_acc: 0.7224\n",
      "Epoch 75/110\n",
      "32/31 [==============================] - 5s 155ms/step - loss: 0.0545 - acc: 0.9819 - val_loss: 5.5587 - val_acc: 0.7252\n",
      "Epoch 76/110\n",
      "32/31 [==============================] - 5s 152ms/step - loss: 0.0688 - acc: 0.9758 - val_loss: 4.9250 - val_acc: 0.7337\n",
      "Epoch 77/110\n",
      "32/31 [==============================] - 5s 151ms/step - loss: 0.0853 - acc: 0.9748 - val_loss: 2.1107 - val_acc: 0.7252\n",
      "Epoch 78/110\n",
      "32/31 [==============================] - 5s 153ms/step - loss: 0.0257 - acc: 0.9909 - val_loss: 5.1738 - val_acc: 0.6034\n",
      "Epoch 79/110\n",
      "32/31 [==============================] - 5s 160ms/step - loss: 0.0965 - acc: 0.9648 - val_loss: 3.0180 - val_acc: 0.7280\n",
      "Epoch 80/110\n",
      "32/31 [==============================] - 5s 155ms/step - loss: 0.0410 - acc: 0.9859 - val_loss: 2.9333 - val_acc: 0.7139\n",
      "Epoch 81/110\n",
      "32/31 [==============================] - 5s 161ms/step - loss: 0.0808 - acc: 0.9799 - val_loss: 3.8626 - val_acc: 0.7280\n",
      "Epoch 82/110\n",
      "32/31 [==============================] - 5s 157ms/step - loss: 0.0656 - acc: 0.9778 - val_loss: 2.6240 - val_acc: 0.7365\n",
      "Epoch 83/110\n",
      "32/31 [==============================] - 5s 160ms/step - loss: 0.0179 - acc: 0.9960 - val_loss: 5.3579 - val_acc: 0.6657\n",
      "Epoch 84/110\n",
      "32/31 [==============================] - 5s 154ms/step - loss: 0.1058 - acc: 0.9809 - val_loss: 2.6654 - val_acc: 0.7450\n",
      "Epoch 85/110\n",
      "32/31 [==============================] - 5s 161ms/step - loss: 0.0414 - acc: 0.9839 - val_loss: 2.5657 - val_acc: 0.7337\n",
      "Epoch 86/110\n",
      "32/31 [==============================] - 5s 148ms/step - loss: 0.0821 - acc: 0.9708 - val_loss: 2.7968 - val_acc: 0.7394\n",
      "Epoch 87/110\n",
      "32/31 [==============================] - 5s 163ms/step - loss: 0.0507 - acc: 0.9889 - val_loss: 2.7839 - val_acc: 0.7337\n",
      "Epoch 88/110\n",
      "32/31 [==============================] - 5s 148ms/step - loss: 0.0807 - acc: 0.9758 - val_loss: 3.7960 - val_acc: 0.7252\n",
      "Epoch 89/110\n",
      "32/31 [==============================] - 6s 173ms/step - loss: 0.0366 - acc: 0.9869 - val_loss: 3.6517 - val_acc: 0.6912\n",
      "Epoch 90/110\n",
      "32/31 [==============================] - 5s 160ms/step - loss: 0.0709 - acc: 0.9758 - val_loss: 2.9761 - val_acc: 0.7337\n",
      "Epoch 91/110\n",
      "32/31 [==============================] - 6s 178ms/step - loss: 0.0048 - acc: 1.0000 - val_loss: 2.8390 - val_acc: 0.7564\n",
      "Epoch 92/110\n",
      "32/31 [==============================] - 5s 152ms/step - loss: 0.0527 - acc: 0.9899 - val_loss: 3.7280 - val_acc: 0.7337\n",
      "Epoch 93/110\n",
      "32/31 [==============================] - 5s 166ms/step - loss: 0.1380 - acc: 0.9728 - val_loss: 3.2265 - val_acc: 0.7394\n",
      "Epoch 94/110\n",
      "32/31 [==============================] - 5s 161ms/step - loss: 0.0166 - acc: 0.9940 - val_loss: 3.3331 - val_acc: 0.7280\n",
      "Epoch 95/110\n",
      "32/31 [==============================] - 5s 152ms/step - loss: 0.0451 - acc: 0.9889 - val_loss: 3.8371 - val_acc: 0.7252\n",
      "Epoch 96/110\n",
      "32/31 [==============================] - 5s 167ms/step - loss: 0.0915 - acc: 0.9768 - val_loss: 3.3199 - val_acc: 0.7564\n",
      "Epoch 97/110\n",
      "32/31 [==============================] - 6s 175ms/step - loss: 0.0491 - acc: 0.9859 - val_loss: 3.1114 - val_acc: 0.7167\n",
      "Epoch 98/110\n",
      "32/31 [==============================] - 5s 151ms/step - loss: 0.0321 - acc: 0.9889 - val_loss: 2.9027 - val_acc: 0.7309\n",
      "Epoch 99/110\n",
      "32/31 [==============================] - 5s 163ms/step - loss: 0.0502 - acc: 0.9879 - val_loss: 3.0423 - val_acc: 0.7167\n",
      "Epoch 100/110\n",
      "32/31 [==============================] - 5s 153ms/step - loss: 0.0679 - acc: 0.9909 - val_loss: 3.5445 - val_acc: 0.7195\n",
      "Epoch 101/110\n",
      "32/31 [==============================] - 5s 151ms/step - loss: 0.0141 - acc: 0.9950 - val_loss: 3.1062 - val_acc: 0.7507\n",
      "Epoch 102/110\n",
      "32/31 [==============================] - 5s 149ms/step - loss: 0.0312 - acc: 0.9889 - val_loss: 3.4592 - val_acc: 0.7195\n",
      "Epoch 103/110\n",
      "32/31 [==============================] - 5s 170ms/step - loss: 0.1601 - acc: 0.9708 - val_loss: 3.4097 - val_acc: 0.7167\n",
      "Epoch 104/110\n",
      "32/31 [==============================] - 5s 158ms/step - loss: 0.0388 - acc: 0.9889 - val_loss: 4.0038 - val_acc: 0.6714\n",
      "Epoch 105/110\n",
      "32/31 [==============================] - 5s 157ms/step - loss: 0.0425 - acc: 0.9940 - val_loss: 3.3268 - val_acc: 0.7450\n",
      "Epoch 106/110\n",
      "32/31 [==============================] - 5s 163ms/step - loss: 0.0565 - acc: 0.9839 - val_loss: 3.3316 - val_acc: 0.7479\n",
      "Epoch 107/110\n",
      "32/31 [==============================] - 5s 153ms/step - loss: 0.0917 - acc: 0.9799 - val_loss: 3.6667 - val_acc: 0.7280\n",
      "Epoch 108/110\n",
      "32/31 [==============================] - 5s 154ms/step - loss: 0.0226 - acc: 0.9940 - val_loss: 4.0301 - val_acc: 0.7564\n",
      "Epoch 109/110\n",
      "32/31 [==============================] - 5s 166ms/step - loss: 0.1265 - acc: 0.9819 - val_loss: 4.9150 - val_acc: 0.7309\n",
      "Epoch 110/110\n",
      "32/31 [==============================] - 5s 157ms/step - loss: 0.0136 - acc: 0.9960 - val_loss: 4.0292 - val_acc: 0.7337\n"
     ]
    },
    {
     "data": {
      "text/plain": [
       "<tensorflow.python.keras.callbacks.History at 0x2160cf97940>"
      ]
     },
     "execution_count": 10,
     "metadata": {},
     "output_type": "execute_result"
    }
   ],
   "source": [
    "cnn.fit_generator(x_train, steps_per_epoch = 993/32, epochs = 110, validation_data = x_test, validation_steps = 353/32)"
   ]
  },
  {
   "cell_type": "code",
   "execution_count": 11,
   "metadata": {},
   "outputs": [],
   "source": [
    "cnn.save(\"project_model.h5\")"
   ]
  }
 ],
 "metadata": {
  "kernelspec": {
   "display_name": "Python 3",
   "language": "python",
   "name": "python3"
  },
  "language_info": {
   "codemirror_mode": {
    "name": "ipython",
    "version": 3
   },
   "file_extension": ".py",
   "mimetype": "text/x-python",
   "name": "python",
   "nbconvert_exporter": "python",
   "pygments_lexer": "ipython3",
   "version": "3.7.3"
  }
 },
 "nbformat": 4,
 "nbformat_minor": 2
}
