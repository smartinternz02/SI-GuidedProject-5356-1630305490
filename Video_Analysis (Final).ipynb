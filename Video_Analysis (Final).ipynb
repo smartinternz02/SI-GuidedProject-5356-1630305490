{
 "cells": [
  {
   "cell_type": "code",
   "execution_count": 1,
   "metadata": {
    "scrolled": true
   },
   "outputs": [],
   "source": [
    "import numpy as np\n",
    "import cv2\n",
    "from playsound import playsound\n",
    "from tensorflow.keras.preprocessing import image\n",
    "from tensorflow.keras.models import load_model"
   ]
  },
  {
   "cell_type": "code",
   "execution_count": 2,
   "metadata": {
    "scrolled": true
   },
   "outputs": [
    {
     "name": "stdout",
     "output_type": "stream",
     "text": [
      "WARNING:tensorflow:From C:\\Users\\sahar\\Anaconda3\\lib\\site-packages\\tensorflow\\python\\ops\\init_ops.py:97: calling GlorotUniform.__init__ (from tensorflow.python.ops.init_ops) with dtype is deprecated and will be removed in a future version.\n",
      "Instructions for updating:\n",
      "Call initializer instance with the dtype argument instead of passing it to the constructor\n",
      "WARNING:tensorflow:From C:\\Users\\sahar\\Anaconda3\\lib\\site-packages\\tensorflow\\python\\ops\\init_ops.py:1251: calling VarianceScaling.__init__ (from tensorflow.python.ops.init_ops) with dtype is deprecated and will be removed in a future version.\n",
      "Instructions for updating:\n",
      "Call initializer instance with the dtype argument instead of passing it to the constructor\n",
      "WARNING:tensorflow:From C:\\Users\\sahar\\Anaconda3\\lib\\site-packages\\tensorflow\\python\\ops\\init_ops.py:97: calling Zeros.__init__ (from tensorflow.python.ops.init_ops) with dtype is deprecated and will be removed in a future version.\n",
      "Instructions for updating:\n",
      "Call initializer instance with the dtype argument instead of passing it to the constructor\n",
      "WARNING:tensorflow:From C:\\Users\\sahar\\Anaconda3\\lib\\site-packages\\tensorflow\\python\\keras\\initializers.py:119: calling RandomUniform.__init__ (from tensorflow.python.ops.init_ops) with dtype is deprecated and will be removed in a future version.\n",
      "Instructions for updating:\n",
      "Call initializer instance with the dtype argument instead of passing it to the constructor\n"
     ]
    }
   ],
   "source": [
    "model = load_model('project_model.h5')"
   ]
  },
  {
   "cell_type": "code",
   "execution_count": 3,
   "metadata": {},
   "outputs": [],
   "source": [
    "from twilio.rest import Client \n",
    " \n",
    "account_sid = 'AC9a433f11f39916c9679ece28d5247868' \n",
    "auth_token = 'a3676623d14d017242a4e37115c8eded'\n",
    "client = Client(account_sid, auth_token) "
   ]
  },
  {
   "cell_type": "code",
   "execution_count": 4,
   "metadata": {},
   "outputs": [],
   "source": [
    "#function for reading frame and predicting what is being seen\n",
    "def prediction(frame):\n",
    "    cv2.imwrite(\"image.jpg\",frame)\n",
    "    img = image.load_img(\"image.jpg\",target_size = (64,64)) \n",
    "    x = image.img_to_array(img)\n",
    "    x = np.expand_dims(x,axis=0)\n",
    "    pred = model.predict(x)\n",
    "    index = [\"domestic\", \"Human\", \"wild\"]\n",
    "    prediction = index[np.argmax(pred[0])]\n",
    "    \n",
    "    #returning the prediction\n",
    "    return prediction"
   ]
  },
  {
   "cell_type": "code",
   "execution_count": 5,
   "metadata": {},
   "outputs": [],
   "source": [
    "video = cv2.VideoCapture(0) "
   ]
  },
  {
   "cell_type": "code",
   "execution_count": 6,
   "metadata": {},
   "outputs": [
    {
     "name": "stderr",
     "output_type": "stream",
     "text": [
      "\n",
      "    Error 263 for command:\n",
      "        close alert.mp3\n",
      "    The specified device is not open or is not recognized by MCI.\n",
      "Failed to close the file: alert.mp3\n"
     ]
    },
    {
     "name": "stdout",
     "output_type": "stream",
     "text": [
      "Wild Animal detected!\n",
      "SMb8795798305647b58c0b0ed6cb5bf37e\n"
     ]
    }
   ],
   "source": [
    "while(1): \n",
    "    success, frame = video.read()\n",
    "    pred = prediction(frame)\n",
    "    cv2.imshow(\"image\",frame)\n",
    "    #sms alert for wild animal spotted. camera window will close automatically after detecting the wild animal\n",
    "    if pred == \"wild\":\n",
    "        playsound('alert.mp3')\n",
    "        print(\"Wild Animal detected!\")\n",
    "        message = client.messages.create( \n",
    "                              body='Danger!. Wild animal is detected, stay alert',\n",
    "                              messaging_service_sid='MG5f49a189a03d72f13759ce75435ec665',       \n",
    "                              to='+60189191309' \n",
    "                          ) \n",
    " \n",
    "        print(message.sid)\n",
    "        break\n",
    "    #this is to close camera window (press q) manually\n",
    "    elif cv2.waitKey(1) & 0xFF == ord('q'):  \n",
    "        break\n",
    "video.release() \n",
    "cv2.destroyAllWindows()"
   ]
  }
 ],
 "metadata": {
  "kernelspec": {
   "display_name": "Python 3",
   "language": "python",
   "name": "python3"
  },
  "language_info": {
   "codemirror_mode": {
    "name": "ipython",
    "version": 3
   },
   "file_extension": ".py",
   "mimetype": "text/x-python",
   "name": "python",
   "nbconvert_exporter": "python",
   "pygments_lexer": "ipython3",
   "version": "3.7.3"
  }
 },
 "nbformat": 4,
 "nbformat_minor": 2
}
